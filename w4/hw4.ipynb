{
 "cells": [
  {
   "cell_type": "code",
   "execution_count": 55,
   "metadata": {},
   "outputs": [],
   "source": [
    "import numpy as np\n",
    "import pandas as pd\n",
    "import matplotlib.pyplot as plt\n",
    "from sklearn.model_selection import train_test_split, KFold\n",
    "from sklearn.linear_model import LogisticRegression\n",
    "from sklearn.feature_extraction import DictVectorizer\n",
    "from sklearn.metrics import precision_score, recall_score, roc_auc_score\n",
    "%matplotlib inline"
   ]
  },
  {
   "cell_type": "code",
   "execution_count": 31,
   "metadata": {},
   "outputs": [],
   "source": [
    "df = pd.read_csv(\"./data.csv\")\n",
    "df = df[[\n",
    "    'Make',\n",
    "    'Model',\n",
    "    'Year',\n",
    "    'Engine HP',\n",
    "    'Engine Cylinders',\n",
    "    'Transmission Type',\n",
    "    'Vehicle Style',\n",
    "    'highway MPG',\n",
    "    'city mpg',\n",
    "    'MSRP'\n",
    "\n",
    "]]\n",
    "df.columns = df.columns.str.replace(' ', '_').str.lower()\n",
    "\n",
    "df.fillna(0, inplace=True)"
   ]
  },
  {
   "cell_type": "code",
   "execution_count": 32,
   "metadata": {},
   "outputs": [],
   "source": [
    "msrp = df.msrp\n",
    "above_average = (msrp > msrp.mean()).astype(int)\n",
    "df.drop('msrp', axis=1, inplace=True)"
   ]
  },
  {
   "cell_type": "code",
   "execution_count": 80,
   "metadata": {},
   "outputs": [],
   "source": [
    "df_full_train, df_test, y_full_train, y_test = train_test_split(df, above_average, test_size=0.2, random_state=1)\n",
    "df_train, df_val, y_train, y_val = train_test_split(df_rest, y_rest, test_size=0.25, random_state=1)\n",
    "\n",
    "numerical = df.columns[df.dtypes != 'object'].values"
   ]
  },
  {
   "cell_type": "code",
   "execution_count": 81,
   "metadata": {},
   "outputs": [
    {
     "name": "stdout",
     "output_type": "stream",
     "text": [
      "year              -> 0.7076614891518739\n",
      "engine_hp         -> 0.9058701614891518\n",
      "engine_cylinders  -> 0.75143537352071\n",
      "highway_mpg       -> 0.6135955991124259\n",
      "city_mpg          -> 0.6511379746055226\n"
     ]
    }
   ],
   "source": [
    "# Question 1\n",
    "for n in numerical:\n",
    "  score = roc_auc_score(y_train, df_train[n])\n",
    "  neg_score = roc_auc_score(y_train, -df_train[n])\n",
    "  print(f'{n:17s} -> {score if score > 0.5 else neg_score}')"
   ]
  },
  {
   "cell_type": "code",
   "execution_count": 82,
   "metadata": {},
   "outputs": [
    {
     "data": {
      "text/plain": [
       "0.986"
      ]
     },
     "execution_count": 82,
     "metadata": {},
     "output_type": "execute_result"
    }
   ],
   "source": [
    "# Question 2\n",
    "dv = DictVectorizer(sparse=False)\n",
    "\n",
    "X_train = dv.fit_transform(df_train.to_dict(orient='records'))\n",
    "X_val = dv.transform(df_val.to_dict(orient='records'))\n",
    "\n",
    "lr_model = LogisticRegression(solver='liblinear', C=1.0, max_iter=1000)\n",
    "lr_model.fit(X_train, y_train)\n",
    "\n",
    "y_pred = lr_model.predict_proba(X_val)[:, 1]\n",
    "score = roc_auc_score(y_val, y_pred)\n",
    "round(score, 3)"
   ]
  },
  {
   "cell_type": "code",
   "execution_count": 83,
   "metadata": {},
   "outputs": [
    {
     "data": {
      "image/png": "[encoded data removed]",
      "text/plain": [
       "<Figure size 640x480 with 1 Axes>"
      ]
     },
     "metadata": {},
     "output_type": "display_data"
    }
   ],
   "source": [
    "# Question 3\n",
    "p, r = [], []\n",
    "thresholds = np.arange(0, 1, 0.01)\n",
    "for t in thresholds:\n",
    "  score = y_pred >= t\n",
    "  p_ = precision_score(y_val, score)\n",
    "  r_ = recall_score(y_val, score)\n",
    "  p.append(p_)\n",
    "  r.append(r_)\n",
    "\n",
    "plt.plot(thresholds, p, label='precision')\n",
    "plt.plot(thresholds, r, label='recall')\n",
    "plt.legend()\n",
    "plt.show()"
   ]
  },
  {
   "cell_type": "code",
   "execution_count": 84,
   "metadata": {},
   "outputs": [
    {
     "data": {
      "text/plain": [
       "0.51"
      ]
     },
     "execution_count": 84,
     "metadata": {},
     "output_type": "execute_result"
    }
   ],
   "source": [
    "# Question 4\n",
    "f1 = []\n",
    "for i in range(len(p)):\n",
    "  score = 2 * p[i] * r[i] / (p[i] + r[i])\n",
    "  f1.append(score)\n",
    "thresholds[np.argmax(f1)]"
   ]
  },
  {
   "cell_type": "code",
   "execution_count": 93,
   "metadata": {},
   "outputs": [],
   "source": [
    "# Question 5\n",
    "kf = KFold(n_splits=5, shuffle=True, random_state=1)\n",
    "scores = []\n",
    "for train_idx, val_idx in kf.split(df_full_train):\n",
    "  df_train = df_full_train.iloc[train_idx]\n",
    "  df_val = df_full_train.iloc[val_idx]\n",
    "\n",
    "  y_train = y_full_train.iloc[train_idx]\n",
    "  y_val = y_full_train.iloc[val_idx]\n",
    "  \n",
    "  dv = DictVectorizer(sparse=False)\n",
    "  X_train = dv.fit_transform(df_train.to_dict(orient='records'))\n",
    "  X_val = dv.transform(df_val.to_dict(orient='records'))\n",
    "\n",
    "  lr_model = LogisticRegression(solver='liblinear', C=1.0, max_iter=1000)\n",
    "  lr_model.fit(X_train, y_train)\n",
    "\n",
    "  y_pred = lr_model.predict_proba(X_val)[:, 1]\n",
    "  score = roc_auc_score(y_val, y_pred)\n",
    "  scores.append(score)"
   ]
  },
  {
   "cell_type": "code",
   "execution_count": 94,
   "metadata": {},
   "outputs": [
    {
     "data": {
      "text/plain": [
       "0.0013708864135055317"
      ]
     },
     "execution_count": 94,
     "metadata": {},
     "output_type": "execute_result"
    }
   ],
   "source": [
    "np.std(scores)"
   ]
  },
  {
   "cell_type": "code",
   "execution_count": 95,
   "metadata": {},
   "outputs": [
    {
     "name": "stdout",
     "output_type": "stream",
     "text": [
      "0.010 | 0.951585805 | 0.002488170\n",
      "0.100 | 0.971575298 | 0.001323366\n",
      "0.500 | 0.977845504 | 0.002932158\n",
      "10.000 | 0.980862651 | 0.002439994\n"
     ]
    }
   ],
   "source": [
    "# Question 6\n",
    "res = []\n",
    "for C in [0.01, 0.1, 0.5, 10]:\n",
    "  kf = KFold(n_splits=5, shuffle=True, random_state=1)\n",
    "  scores = []\n",
    "  for train_idx, val_idx in kf.split(df_full_train):\n",
    "    df_train = df_full_train.iloc[train_idx]\n",
    "    df_val = df_full_train.iloc[val_idx]\n",
    "\n",
    "    y_train = y_full_train.iloc[train_idx]\n",
    "    y_val = y_full_train.iloc[val_idx]\n",
    "    \n",
    "    dv = DictVectorizer(sparse=False)\n",
    "    X_train = dv.fit_transform(df_train.to_dict(orient='records'))\n",
    "    X_val = dv.transform(df_val.to_dict(orient='records'))\n",
    "\n",
    "    lr_model = LogisticRegression(solver='liblinear', C=C, max_iter=1000)\n",
    "    lr_model.fit(X_train, y_train)\n",
    "\n",
    "    y_pred = lr_model.predict_proba(X_val)[:, 1]\n",
    "    score = roc_auc_score(y_val, y_pred)\n",
    "    scores.append(score)\n",
    "  print(f'{C:.3f} | {np.mean(scores):.9f} | {np.std(scores):.9f}')\n"
   ]
  }
 ],
 "metadata": {
  "kernelspec": {
   "display_name": "ml",
   "language": "python",
   "name": "python3"
  },
  "language_info": {
   "codemirror_mode": {
    "name": "ipython",
    "version": 3
   },
   "file_extension": ".py",
   "mimetype": "text/x-python",
   "name": "python",
   "nbconvert_exporter": "python",
   "pygments_lexer": "ipython3",
   "version": "3.10.6"
  }
 },
 "nbformat": 4,
 "nbformat_minor": 2
}
