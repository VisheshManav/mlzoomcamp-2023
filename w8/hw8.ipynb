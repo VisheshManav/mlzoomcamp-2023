{
 "cells": [
  {
   "cell_type": "code",
   "execution_count": 6,
   "metadata": {
    "execution": {
     "iopub.execute_input": "2023-11-22T20:07:57.044369Z",
     "iopub.status.busy": "2023-11-22T20:07:57.043982Z",
     "iopub.status.idle": "2023-11-22T20:07:57.049379Z",
     "shell.execute_reply": "2023-11-22T20:07:57.048550Z",
     "shell.execute_reply.started": "2023-11-22T20:07:57.044345Z"
    },
    "tags": []
   },
   "outputs": [],
   "source": [
    "import tensorflow as tf\n",
    "from tensorflow import keras\n",
    "\n",
    "import numpy\n",
    "import matplotlib.pyplot as plt\n",
    "\n",
    "%matplotlib inline"
   ]
  },
  {
   "cell_type": "code",
   "execution_count": 50,
   "metadata": {
    "execution": {
     "iopub.execute_input": "2023-11-22T20:44:37.157530Z",
     "iopub.status.busy": "2023-11-22T20:44:37.157142Z",
     "iopub.status.idle": "2023-11-22T20:44:37.188448Z",
     "shell.execute_reply": "2023-11-22T20:44:37.187771Z",
     "shell.execute_reply.started": "2023-11-22T20:44:37.157503Z"
    },
    "tags": []
   },
   "outputs": [],
   "source": [
    "input = keras.Input((256, 256, 3))\n",
    "conv_layer = keras.layers.Conv2D(32, 3, activation='relu')(input)\n",
    "pool_layer = keras.layers.MaxPool2D(pool_size=(2, 2))(conv_layer)\n",
    "flat_layer = keras.layers.Flatten()(pool_layer)\n",
    "dens_layer = keras.layers.Dense(64, activation='relu')(flat_layer)\n",
    "outp_layer = keras.layers.Dense(1, activation='sigmoid')(dens_layer)\n",
    "\n",
    "model = keras.Model(inputs=input, outputs=outp_layer)"
   ]
  },
  {
   "cell_type": "code",
   "execution_count": 56,
   "metadata": {
    "execution": {
     "iopub.execute_input": "2023-11-22T20:48:09.519689Z",
     "iopub.status.busy": "2023-11-22T20:48:09.519284Z",
     "iopub.status.idle": "2023-11-22T20:48:09.528911Z",
     "shell.execute_reply": "2023-11-22T20:48:09.528009Z",
     "shell.execute_reply.started": "2023-11-22T20:48:09.519662Z"
    },
    "tags": []
   },
   "outputs": [],
   "source": [
    "optimizer = keras.optimizers.SGD(learning_rate=0.002, momentum=0.8)\n",
    "loss = keras.losses.BinaryCrossentropy()\n",
    "model.compile(optimizer=optimizer, loss=loss, metrics=['accuracy'])"
   ]
  },
  {
   "cell_type": "code",
   "execution_count": 57,
   "metadata": {
    "execution": {
     "iopub.execute_input": "2023-11-22T20:48:10.338413Z",
     "iopub.status.busy": "2023-11-22T20:48:10.338009Z",
     "iopub.status.idle": "2023-11-22T20:48:10.354635Z",
     "shell.execute_reply": "2023-11-22T20:48:10.353983Z",
     "shell.execute_reply.started": "2023-11-22T20:48:10.338389Z"
    },
    "tags": []
   },
   "outputs": [
    {
     "name": "stdout",
     "output_type": "stream",
     "text": [
      "Model: \"model_5\"\n",
      "_________________________________________________________________\n",
      " Layer (type)                Output Shape              Param #   \n",
      "=================================================================\n",
      " input_7 (InputLayer)        [(None, 256, 256, 3)]     0         \n",
      "                                                                 \n",
      " conv2d_6 (Conv2D)           (None, 254, 254, 32)      896       \n",
      "                                                                 \n",
      " max_pooling2d_6 (MaxPooling  (None, 127, 127, 32)     0         \n",
      " 2D)                                                             \n",
      "                                                                 \n",
      " flatten_5 (Flatten)         (None, 516128)            0         \n",
      "                                                                 \n",
      " dense_10 (Dense)            (None, 64)                33032256  \n",
      "                                                                 \n",
      " dense_11 (Dense)            (None, 1)                 65        \n",
      "                                                                 \n",
      "=================================================================\n",
      "Total params: 33,033,217\n",
      "Trainable params: 33,033,217\n",
      "Non-trainable params: 0\n",
      "_________________________________________________________________\n"
     ]
    }
   ],
   "source": [
    "model.summary()"
   ]
  },
  {
   "cell_type": "code",
   "execution_count": 58,
   "metadata": {
    "execution": {
     "iopub.execute_input": "2023-11-22T20:48:14.761711Z",
     "iopub.status.busy": "2023-11-22T20:48:14.761327Z",
     "iopub.status.idle": "2023-11-22T20:48:14.765305Z",
     "shell.execute_reply": "2023-11-22T20:48:14.764538Z",
     "shell.execute_reply.started": "2023-11-22T20:48:14.761686Z"
    },
    "tags": []
   },
   "outputs": [],
   "source": [
    "from tensorflow.keras.preprocessing.image import ImageDataGenerator"
   ]
  },
  {
   "cell_type": "code",
   "execution_count": 59,
   "metadata": {
    "execution": {
     "iopub.execute_input": "2023-11-22T20:48:15.783706Z",
     "iopub.status.busy": "2023-11-22T20:48:15.783307Z",
     "iopub.status.idle": "2023-11-22T20:48:15.931671Z",
     "shell.execute_reply": "2023-11-22T20:48:15.930913Z",
     "shell.execute_reply.started": "2023-11-22T20:48:15.783680Z"
    },
    "tags": []
   },
   "outputs": [
    {
     "name": "stdout",
     "output_type": "stream",
     "text": [
      "Found 3677 images belonging to 2 classes.\n",
      "Found 918 images belonging to 2 classes.\n"
     ]
    }
   ],
   "source": [
    "genr = ImageDataGenerator(rescale=1./255)\n",
    "\n",
    "train_generator = genr.flow_from_directory(\n",
    "    './data/train',\n",
    "    class_mode='binary',\n",
    "    batch_size=20,\n",
    "    shuffle=True\n",
    ")\n",
    "test_generator = genr.flow_from_directory(\n",
    "    './data/test',\n",
    "    class_mode='binary',\n",
    "    batch_size=20,\n",
    "    shuffle=True\n",
    ")"
   ]
  },
  {
   "cell_type": "code",
   "execution_count": 61,
   "metadata": {
    "execution": {
     "iopub.execute_input": "2023-11-22T20:48:24.452584Z",
     "iopub.status.busy": "2023-11-22T20:48:24.452201Z",
     "iopub.status.idle": "2023-11-22T20:50:17.514069Z",
     "shell.execute_reply": "2023-11-22T20:50:17.513485Z",
     "shell.execute_reply.started": "2023-11-22T20:48:24.452557Z"
    },
    "tags": []
   },
   "outputs": [
    {
     "name": "stdout",
     "output_type": "stream",
     "text": [
      "Epoch 1/10\n",
      "184/184 [==============================] - 12s 63ms/step - loss: 0.6066 - accuracy: 0.6720 - val_loss: 0.5805 - val_accuracy: 0.7081\n",
      "Epoch 2/10\n",
      "184/184 [==============================] - 11s 60ms/step - loss: 0.5537 - accuracy: 0.7261 - val_loss: 0.5400 - val_accuracy: 0.7440\n",
      "Epoch 3/10\n",
      "184/184 [==============================] - 11s 62ms/step - loss: 0.5236 - accuracy: 0.7561 - val_loss: 0.5550 - val_accuracy: 0.7102\n",
      "Epoch 4/10\n",
      "184/184 [==============================] - 11s 59ms/step - loss: 0.4965 - accuracy: 0.7762 - val_loss: 0.5281 - val_accuracy: 0.7560\n",
      "Epoch 5/10\n",
      "184/184 [==============================] - 11s 61ms/step - loss: 0.4731 - accuracy: 0.7900 - val_loss: 0.6455 - val_accuracy: 0.6874\n",
      "Epoch 6/10\n",
      "184/184 [==============================] - 11s 60ms/step - loss: 0.4459 - accuracy: 0.7985 - val_loss: 0.5196 - val_accuracy: 0.7560\n",
      "Epoch 7/10\n",
      "184/184 [==============================] - 11s 62ms/step - loss: 0.4277 - accuracy: 0.8145 - val_loss: 0.5196 - val_accuracy: 0.7538\n",
      "Epoch 8/10\n",
      "184/184 [==============================] - 11s 61ms/step - loss: 0.3929 - accuracy: 0.8276 - val_loss: 0.5148 - val_accuracy: 0.7571\n",
      "Epoch 9/10\n",
      "184/184 [==============================] - 11s 60ms/step - loss: 0.3454 - accuracy: 0.8608 - val_loss: 0.5890 - val_accuracy: 0.6928\n",
      "Epoch 10/10\n",
      "184/184 [==============================] - 11s 61ms/step - loss: 0.2985 - accuracy: 0.8860 - val_loss: 0.5323 - val_accuracy: 0.7549\n"
     ]
    }
   ],
   "source": [
    "history = model.fit(\n",
    "    train_generator,\n",
    "    epochs=10,\n",
    "    validation_data=test_generator\n",
    ")"
   ]
  },
  {
   "cell_type": "code",
   "execution_count": 63,
   "metadata": {
    "execution": {
     "iopub.execute_input": "2023-11-22T20:51:15.981425Z",
     "iopub.status.busy": "2023-11-22T20:51:15.981038Z",
     "iopub.status.idle": "2023-11-22T20:51:15.986646Z",
     "shell.execute_reply": "2023-11-22T20:51:15.985932Z",
     "shell.execute_reply.started": "2023-11-22T20:51:15.981401Z"
    },
    "tags": []
   },
   "outputs": [
    {
     "data": {
      "text/plain": [
       "0.7942616045475006"
      ]
     },
     "execution_count": 63,
     "metadata": {},
     "output_type": "execute_result"
    }
   ],
   "source": [
    "import numpy as np\n",
    "hist = history.history\n",
    "np.median(hist['accuracy'])"
   ]
  },
  {
   "cell_type": "code",
   "execution_count": 64,
   "metadata": {
    "execution": {
     "iopub.execute_input": "2023-11-22T20:51:55.055419Z",
     "iopub.status.busy": "2023-11-22T20:51:55.054938Z",
     "iopub.status.idle": "2023-11-22T20:51:55.060552Z",
     "shell.execute_reply": "2023-11-22T20:51:55.059762Z",
     "shell.execute_reply.started": "2023-11-22T20:51:55.055388Z"
    },
    "tags": []
   },
   "outputs": [
    {
     "data": {
      "text/plain": [
       "0.08979325127871177"
      ]
     },
     "execution_count": 64,
     "metadata": {},
     "output_type": "execute_result"
    }
   ],
   "source": [
    "np.std(hist['loss'])"
   ]
  },
  {
   "cell_type": "code",
   "execution_count": 65,
   "metadata": {
    "execution": {
     "iopub.execute_input": "2023-11-22T20:53:17.843777Z",
     "iopub.status.busy": "2023-11-22T20:53:17.843391Z",
     "iopub.status.idle": "2023-11-22T20:53:17.975324Z",
     "shell.execute_reply": "2023-11-22T20:53:17.974627Z",
     "shell.execute_reply.started": "2023-11-22T20:53:17.843752Z"
    },
    "tags": []
   },
   "outputs": [
    {
     "name": "stdout",
     "output_type": "stream",
     "text": [
      "Found 3677 images belonging to 2 classes.\n",
      "Found 918 images belonging to 2 classes.\n"
     ]
    }
   ],
   "source": [
    "genr = ImageDataGenerator(rescale=1./255,               \n",
    "    rotation_range=50,\n",
    "    width_shift_range=0.1,\n",
    "    height_shift_range=0.1,\n",
    "    zoom_range=0.1,\n",
    "    horizontal_flip=True,\n",
    "    fill_mode='nearest'\n",
    ")\n",
    "\n",
    "train_generator = genr.flow_from_directory(\n",
    "    './data/train',\n",
    "    class_mode='binary',\n",
    "    batch_size=20,\n",
    "    shuffle=True\n",
    ")\n",
    "test_generator = genr.flow_from_directory(\n",
    "    './data/test',\n",
    "    class_mode='binary',\n",
    "    batch_size=20,\n",
    "    shuffle=True\n",
    ")"
   ]
  },
  {
   "cell_type": "code",
   "execution_count": null,
   "metadata": {
    "execution": {
     "iopub.execute_input": "2023-11-22T20:53:32.395287Z",
     "iopub.status.busy": "2023-11-22T20:53:32.394895Z"
    },
    "tags": []
   },
   "outputs": [
    {
     "name": "stdout",
     "output_type": "stream",
     "text": [
      "Epoch 1/10\n",
      "184/184 [==============================] - 63s 341ms/step - loss: 0.5162 - accuracy: 0.7599 - val_loss: 0.5046 - val_accuracy: 0.7800\n",
      "Epoch 2/10\n",
      "184/184 [==============================] - 62s 337ms/step - loss: 0.5119 - accuracy: 0.7612 - val_loss: 0.5153 - val_accuracy: 0.7473\n",
      "Epoch 3/10\n",
      " 89/184 [=============>................] - ETA: 25s - loss: 0.4874 - accuracy: 0.7833"
     ]
    }
   ],
   "source": [
    "history = model.fit(\n",
    "    train_generator,\n",
    "    epochs=10,\n",
    "    validation_data=test_generator\n",
    ")"
   ]
  },
  {
   "cell_type": "code",
   "execution_count": null,
   "metadata": {
    "tags": []
   },
   "outputs": [],
   "source": [
    "hist = history.history\n",
    "np.mean(hist['val_loss'])"
   ]
  },
  {
   "cell_type": "code",
   "execution_count": null,
   "metadata": {},
   "outputs": [],
   "source": []
  }
 ],
 "metadata": {
  "kernelspec": {
   "display_name": "saturn (Python 3)",
   "language": "python",
   "name": "python3"
  },
  "language_info": {
   "codemirror_mode": {
    "name": "ipython",
    "version": 3
   },
   "file_extension": ".py",
   "mimetype": "text/x-python",
   "name": "python",
   "nbconvert_exporter": "python",
   "pygments_lexer": "ipython3",
   "version": "3.9.15"
  }
 },
 "nbformat": 4,
 "nbformat_minor": 4
}
